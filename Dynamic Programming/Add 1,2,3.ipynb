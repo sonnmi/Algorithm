{
 "cells": [
  {
   "cell_type": "markdown",
   "metadata": {},
   "source": [
    "[(kr)problem](https://www.acmicpc.net/problem/9095)\n",
    "\n",
    "Difficulty: Medium\n",
    "\n",
    "Time Taken: 30m\n",
    "\n",
    "```\n",
    "There are a total of 7 ways to express the integer 4 as the sum of 1, 2, and 3. When expressing a sum, you must use more than one number:\n",
    "\n",
    "1+1+1+1\n",
    "1+1+2\n",
    "1+2+1\n",
    "2+1+1\n",
    "2+2\n",
    "1+3\n",
    "3+1\n",
    "\n",
    "Given an integer n, write a program to find the number of ways n can be expressed as the sum of 1, 2, and 3.\n",
    "The number of test cases T is given in the first line. Each test case consists of one line, and the integer n is given. n is a positive number and is less than 11.\n",
    "For each test case, output the number of ways to express n as the sum of 1, 2, and 3.\n",
    "```"
   ]
  },
  {
   "cell_type": "markdown",
   "metadata": {},
   "source": [
    "1.\n",
    "Time Complexity: O(N)"
   ]
  },
  {
   "cell_type": "code",
   "execution_count": 94,
   "metadata": {},
   "outputs": [],
   "source": [
    "# Bottom-Up\n",
    "def sol(n):\n",
    "    D = [0 for i in range(n+1)]\n",
    "    # 3 base cases\n",
    "    D[1] = 1\n",
    "    if n > 1:   # n >= 1\n",
    "        D[2] = 2    # 1+1, 2\n",
    "    if n > 2:\n",
    "        D[3] = 4    # 1+1+1, 1+2, 2+1, 3\n",
    "    for i in range(4, n+1):\n",
    "        D[i] = D[i-1] + D[i-2] + D[i-3]\n",
    "    return D[n]"
   ]
  },
  {
   "cell_type": "markdown",
   "metadata": {},
   "source": [
    "2.\n",
    "Time Complexity: O(N)"
   ]
  },
  {
   "cell_type": "code",
   "execution_count": 92,
   "metadata": {},
   "outputs": [],
   "source": [
    "# Bottom-Up\n",
    "def sol(n):\n",
    "    D = [0 for i in range(n+1)]\n",
    "    D[0] = 1\n",
    "    for i in range(1, n+1):\n",
    "        if i-1 >= 0:\n",
    "            D[i] += D[i-1]\n",
    "        if i-2 >= 0:\n",
    "            D[i] += D[i-2]\n",
    "        if i-3 >= 0:\n",
    "            D[i] += D[i-3]\n",
    "    return D[n]"
   ]
  },
  {
   "cell_type": "markdown",
   "metadata": {},
   "source": [
    "***Explanation:***\n",
    "\n",
    "There are 3 ways to put tiles to make a number n with 1, 2, and 3.\n",
    "- (n - 1) + 1\n",
    "- (n - 2) + 2\n",
    "- (n - 3) + 3\n",
    "\n",
    "Assume (n - ?) part solves the number of ways to make a number (n - ?).\n",
    "\n",
    "Since we need to find the ***total*** number to make a number n with 1, 2, and 3, we just need to sum the number of making ```#ways to make (n-1)``` and ```#ways to make (n-2)``` and ```#ways to make (n-3)```.\n",
    "\n",
    "Equation: ```D[n] = D[n-1] + D[n-2] + D[n-3]``` where ```D[n]``` is the number of ways to make a number n with 1, 2, and 3."
   ]
  },
  {
   "cell_type": "code",
   "execution_count": 95,
   "metadata": {},
   "outputs": [
    {
     "name": "stdout",
     "output_type": "stream",
     "text": [
      "7\n",
      "44\n",
      "274\n"
     ]
    }
   ],
   "source": [
    "# TEST CASE\n",
    "def test_helper(T):\n",
    "    for n in T:\n",
    "        print(sol(n))\n",
    "\n",
    "test = [4,7,10]\n",
    "\n",
    "test_helper(test)\n",
    "# Expected:\n",
    "# 7\n",
    "# 44\n",
    "# 274"
   ]
  }
 ],
 "metadata": {
  "kernelspec": {
   "display_name": "Python 3.11.2 64-bit",
   "language": "python",
   "name": "python3"
  },
  "language_info": {
   "codemirror_mode": {
    "name": "ipython",
    "version": 3
   },
   "file_extension": ".py",
   "mimetype": "text/x-python",
   "name": "python",
   "nbconvert_exporter": "python",
   "pygments_lexer": "ipython3",
   "version": "3.11.2"
  },
  "orig_nbformat": 4,
  "vscode": {
   "interpreter": {
    "hash": "1a1af0ee75eeea9e2e1ee996c87e7a2b11a0bebd85af04bb136d915cefc0abce"
   }
  }
 },
 "nbformat": 4,
 "nbformat_minor": 2
}

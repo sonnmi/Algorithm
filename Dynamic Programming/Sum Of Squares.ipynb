{
 "cells": [
  {
   "cell_type": "markdown",
   "metadata": {},
   "source": [
    "[(kr)problem](https://www.acmicpc.net/problem/1699)\n",
    "\n",
    "Difficulty: Medium\n",
    "\n",
    "Related Problem: [Add 1,2,3]()\n",
    "\n",
    "Question:\n",
    "\n",
    "```\n",
    "Any natural number N can be expressed as the sum of square numbers that are less than or equal to it. For example, 11=32+12+12 (3 terms). There can be many ways to express this. In the case of 11, 11=22+22+12+12+12 (5 terms) is also possible. In this case, mathematician Shomcrates says, “11 can be expressed as the sum of the squares of three terms.” Also, since 11 cannot be expressed as the sum of the squares of fewer terms, the minimum number of square terms that can express 11 as the sum is 3.\n",
    "\n",
    "When expressing a given natural number N as the sum of square numbers like this, write a program to find the minimum number of terms.\n",
    "\n",
    "When expressing a given natural number as the sum of squares, the minimum number of square terms is output.\n",
    "```"
   ]
  },
  {
   "cell_type": "markdown",
   "metadata": {},
   "source": [
    "#### 1D Dynamic\n",
    "#### bottom up\n",
    "#### Time complexity: O(N<sup>1/2</sup>N)\n",
    "#### Time Taken: 50m"
   ]
  },
  {
   "cell_type": "code",
   "execution_count": 2,
   "metadata": {},
   "outputs": [],
   "source": [
    "def sol(N):\n",
    "    D = [0 for i in range(N+1)]\n",
    "    for i in range(1, N+1):\n",
    "        D[i] = i\n",
    "        j = 1\n",
    "        while j * j <= i:\n",
    "            # D[i] = min(D[i], D[i-j*j] + 1)   Time Error\n",
    "            if D[i] > D[i-j*j] + 1:\n",
    "                D[i] = D[i-j*j] + 1\n",
    "            j += 1       \n",
    "    return D[N]"
   ]
  },
  {
   "cell_type": "markdown",
   "metadata": {},
   "source": [
    "#### **Explanation:**\n",
    "\n",
    "Intuitively, it looks like the following: N-i<sup>2</sup> + i<sup>2</sup> = N.\n",
    "\n",
    "The minimum number of terms to express N is the ```minimum number of terms to express N-i^2``` + ```1```, 1 term for i<sup>2</sup> itself. Thus, we can write the following DP equation.\n",
    "\n",
    "Equation: ```D[n] = min(D[n-i^2]) + 1``` where ```D[n]``` is the minimum number of square terms that can express n.\n",
    "\n",
    "*Note: If the question asks for the number of squeare terms that can express n, the equation would be the following: ```D[n] = sum(D[n-i^2])``` where ```D[n]``` is the number of square terms that can express n*"
   ]
  },
  {
   "cell_type": "code",
   "execution_count": 3,
   "metadata": {},
   "outputs": [
    {
     "data": {
      "text/plain": [
       "4"
      ]
     },
     "execution_count": 3,
     "metadata": {},
     "output_type": "execute_result"
    }
   ],
   "source": [
    "# TEST CASE\n",
    "test = 7\n",
    "sol(test)\n",
    "# Expected: 4"
   ]
  },
  {
   "cell_type": "code",
   "execution_count": 4,
   "metadata": {},
   "outputs": [
    {
     "data": {
      "text/plain": [
       "1"
      ]
     },
     "execution_count": 4,
     "metadata": {},
     "output_type": "execute_result"
    }
   ],
   "source": [
    "# TEST CASE\n",
    "test = 1\n",
    "sol(test)\n",
    "# Expected: 1"
   ]
  },
  {
   "cell_type": "code",
   "execution_count": 5,
   "metadata": {},
   "outputs": [
    {
     "data": {
      "text/plain": [
       "1"
      ]
     },
     "execution_count": 5,
     "metadata": {},
     "output_type": "execute_result"
    }
   ],
   "source": [
    "# TEST CASE\n",
    "test = 4\n",
    "sol(test)\n",
    "# Expected: 1"
   ]
  },
  {
   "cell_type": "code",
   "execution_count": 6,
   "metadata": {},
   "outputs": [
    {
     "data": {
      "text/plain": [
       "3"
      ]
     },
     "execution_count": 6,
     "metadata": {},
     "output_type": "execute_result"
    }
   ],
   "source": [
    "# TEST CASE\n",
    "test = 11\n",
    "sol(test)\n",
    "# Expected: 3"
   ]
  },
  {
   "cell_type": "code",
   "execution_count": 7,
   "metadata": {},
   "outputs": [
    {
     "data": {
      "text/plain": [
       "2"
      ]
     },
     "execution_count": 7,
     "metadata": {},
     "output_type": "execute_result"
    }
   ],
   "source": [
    "# TEST CASE\n",
    "test = 13\n",
    "sol(test)\n",
    "# Expected: 2"
   ]
  }
 ],
 "metadata": {
  "kernelspec": {
   "display_name": "Python 3.11.2 64-bit",
   "language": "python",
   "name": "python3"
  },
  "language_info": {
   "codemirror_mode": {
    "name": "ipython",
    "version": 3
   },
   "file_extension": ".py",
   "mimetype": "text/x-python",
   "name": "python",
   "nbconvert_exporter": "python",
   "pygments_lexer": "ipython3",
   "version": "3.11.2"
  },
  "orig_nbformat": 4,
  "vscode": {
   "interpreter": {
    "hash": "1a1af0ee75eeea9e2e1ee996c87e7a2b11a0bebd85af04bb136d915cefc0abce"
   }
  }
 },
 "nbformat": 4,
 "nbformat_minor": 2
}

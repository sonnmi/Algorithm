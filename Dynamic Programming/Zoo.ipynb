{
 "cells": [
  {
   "cell_type": "markdown",
   "metadata": {},
   "source": [
    "[(kr)problem](https://www.acmicpc.net/problem/1309)\n",
    "\n",
    "Difficulty: Easy\n",
    "\n",
    "Question:\n",
    "\n",
    "```\n",
    "In a certain zoo, there is a cage like the one below, which has two cells horizontally and N cells vertically. There are lions living in this zoo, but when the lions are caged, they cannot be arranged horizontally or vertically. The zoo's trainer is having trouble with the placement of the lions.\n",
    "\n",
    "To save the zoo trainer's head a headache, let's write a program to find out how many ways we can place lions in a 2*N array. It is assumed that even the case where no lion is placed is counted as one case.\n",
    "\n",
    "Print the remainder after dividing the number of cases of placing the lion in the first line by 9901.\n",
    "```"
   ]
  },
  {
   "cell_type": "markdown",
   "metadata": {},
   "source": [
    "#### 2D Dynamic\n",
    "#### bottom up\n",
    "#### Time complexity: O(N)\n",
    "#### Time Taken: 15m"
   ]
  },
  {
   "cell_type": "code",
   "execution_count": 23,
   "metadata": {},
   "outputs": [],
   "source": [
    "def sol(N):\n",
    "    D = [[0] * 3 for i in range(N+1)]\n",
    "    D[1][0] = 1\n",
    "    D[1][1] = 1\n",
    "    D[1][2] = 1\n",
    "    for i in range(2, N+1):\n",
    "        D[i][0] = (D[i-1][0] + D[i-1][1] + D[i-1][2]) % 9901\n",
    "        D[i][1] = (D[i-1][0] + D[i-1][2]) % 9901\n",
    "        D[i][2] = (D[i-1][0] + D[i-1][1]) % 9901\n",
    "    return sum(D[N]) % 9901"
   ]
  },
  {
   "cell_type": "markdown",
   "metadata": {},
   "source": [
    "#### **Explanation:**\n",
    "\n",
    "When the lions are caged, they cannot be arranged horizontally or vertically. This means, we cannot cage like [X X] in a 1X2 cell.\n",
    "\n",
    "There are 3 ways to fill a 1X2 cell, among Nx2 cells.\n",
    "\n",
    "1. _ _\n",
    "    - _ _\n",
    "    - _ X\n",
    "    - X _\n",
    "2. X _\n",
    "    - _ _\n",
    "    - _ X\n",
    "3. _ X\n",
    "    - _ _\n",
    "    - X _\n",
    "\n",
    "to satisfy we do not have cages adjacent horizontally or vertically.\n",
    "\n",
    "Represnt the 3 cases as indexes 0, 1, and 2.\n",
    "\n",
    "0. _ _\n",
    "    - D[i][0] = D[i-1][0] + D[i-1][1] + D[i-1][2]\n",
    "1. X _\n",
    "    - D[i][1] = D[i-1][0] + D[i-1][2]\n",
    "2. _ X\n",
    "    - D[i][2] = D[i-1][0] + D[i-1][1]\n",
    "\n",
    "Equation: ```D[n][x] = sum(D[n])``` where ```D[n][x] = D[n-1][non_x] if x > 0 or D[n][x] = D[n-1][0..2]``` is the number of cases of placing the lion where 0 ≤ x ≤ 2 is one of 3 ways to cage."
   ]
  },
  {
   "cell_type": "code",
   "execution_count": 24,
   "metadata": {},
   "outputs": [
    {
     "data": {
      "text/plain": [
       "41"
      ]
     },
     "execution_count": 24,
     "metadata": {},
     "output_type": "execute_result"
    }
   ],
   "source": [
    "# TEST CASE\n",
    "test = 4\n",
    "sol(test)\n",
    "# Expected: 41"
   ]
  }
 ],
 "metadata": {
  "kernelspec": {
   "display_name": "Python 3.11.2 64-bit",
   "language": "python",
   "name": "python3"
  },
  "language_info": {
   "codemirror_mode": {
    "name": "ipython",
    "version": 3
   },
   "file_extension": ".py",
   "mimetype": "text/x-python",
   "name": "python",
   "nbconvert_exporter": "python",
   "pygments_lexer": "ipython3",
   "version": "3.11.2"
  },
  "orig_nbformat": 4,
  "vscode": {
   "interpreter": {
    "hash": "1a1af0ee75eeea9e2e1ee996c87e7a2b11a0bebd85af04bb136d915cefc0abce"
   }
  }
 },
 "nbformat": 4,
 "nbformat_minor": 2
}

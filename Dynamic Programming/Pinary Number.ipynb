{
 "cells": [
  {
   "cell_type": "markdown",
   "metadata": {},
   "source": [
    "[(kr)problem](https://www.acmicpc.net/problem/2193)\n",
    "\n",
    "Difficulty: Easy\n",
    "\n",
    "Question:\n",
    "\n",
    "```\n",
    "A number consisting only of 0 and 1 is called a binary number. Among these binary numbers, there are some that have special properties, and they are called pinary number in korean. This number satisfies the following properties.\n",
    "\n",
    "This number does not start with 0.\n",
    "In this number, 1 does not appear twice in a row. That is, it does not have 11 as a substring.\n",
    "For example, 1, 10, 100, 101, 1000, 1001, etc. are pinary number. However, 0010101 and 101101 are not pinary number because they violate rules 1 and 2, respectively.\n",
    "\n",
    "Given N (1 ≤ N ≤ 90), write a program to find the number of N-digit pinary number.\n",
    "```"
   ]
  },
  {
   "cell_type": "markdown",
   "metadata": {},
   "source": [
    "_______\n",
    "#### **1) 1D Dynamic**\n",
    "#### bottom up\n",
    "#### Time complexity: O(N)\n",
    "#### Time Taken: 10m"
   ]
  },
  {
   "cell_type": "code",
   "execution_count": 1,
   "metadata": {},
   "outputs": [],
   "source": [
    "def sol(N):\n",
    "    D = [0 for i in range(N+1)]\n",
    "    D[1] = 1\n",
    "    for i in range(2, N+1):\n",
    "        D[i] = D[i-1] + D[i-2]\n",
    "    return D[N]"
   ]
  },
  {
   "cell_type": "markdown",
   "metadata": {},
   "source": [
    "#### **Explanation:**\n",
    "\n",
    "There are 2 ways to fill a digit.\n",
    "- _0\n",
    "    - 10 is possible\n",
    "    - 00 is possible, only when the first digit is not 0\n",
    "- _1\n",
    "    - 01 is possible\n",
    "    - 11 is not possible\n",
    "\n",
    "The only time _1 is possible is when 1 follows 0, so we can ignore _1 case. We consider 01 as one number, which takes up 2 digits.\n",
    "\n",
    "Base case: 1 (because it cannot start with 0)\n",
    "\n",
    "*Note*: We don't need to think about 00 when it starts with 0 because of base case will handle it will never start with 0.\n",
    "\n",
    "Equation: ```D[n] = D[n-1] + D[n-2]``` where ```D[n]``` is the number of N-digit pinary number."
   ]
  },
  {
   "cell_type": "code",
   "execution_count": 2,
   "metadata": {},
   "outputs": [
    {
     "data": {
      "text/plain": [
       "2"
      ]
     },
     "execution_count": 2,
     "metadata": {},
     "output_type": "execute_result"
    }
   ],
   "source": [
    "# TEST CASE\n",
    "test = 3\n",
    "sol(test)\n",
    "# Expected: 2"
   ]
  },
  {
   "cell_type": "markdown",
   "metadata": {},
   "source": [
    "_______\n",
    "#### **2) 2D Dynamic**\n",
    "#### bottom up\n",
    "#### Time complexity: O(N)\n",
    "#### Time Taken: 15m"
   ]
  },
  {
   "cell_type": "code",
   "execution_count": 14,
   "metadata": {},
   "outputs": [],
   "source": [
    "def sol(N):\n",
    "    D = [[0] * (N+1) for i in range(N+1)]\n",
    "    D[1][1] = 1\n",
    "    if N > 1:\n",
    "        D[2][0] = 1\n",
    "        D[2][1] = 0\n",
    "    for i in range(2, N+1):\n",
    "        D[i][0] = D[i-1][0] + D[i-1][1]\n",
    "        D[i][1] = D[i-1][0]\n",
    "    return D[N][0] + D[N][1]"
   ]
  },
  {
   "cell_type": "markdown",
   "metadata": {},
   "source": [
    "#### **Explanation:**\n",
    "\n",
    "There are 2 ways to fill a digit.\n",
    "- _0\n",
    "    - 10 is possible\n",
    "    - 00 is possible, only when the first digit is not 0\n",
    "- _1\n",
    "    - 01 is possible\n",
    "    - 11 is not possible\n",
    "\n",
    "Base case:\n",
    "- 1 digit: 1 (because it cannot start with 0)\n",
    "    - D[1][1] = 1\n",
    "- 2 digits: 10\n",
    "    - D[2][0] = 1 ← 10, but not D[2][1] = 1 ← 11\n",
    "\n",
    "*Note*: We don't need to think about 00 when it starts with 0 because of base case will handle it will never start with 0.\n",
    "\n",
    "Equation: ```D[n][x] = D[n-1][0] + D[n-1][1]``` where ```D[n][x]``` is the number of N-digit pinary number that ends with x."
   ]
  },
  {
   "cell_type": "code",
   "execution_count": 15,
   "metadata": {},
   "outputs": [
    {
     "data": {
      "text/plain": [
       "2"
      ]
     },
     "execution_count": 15,
     "metadata": {},
     "output_type": "execute_result"
    }
   ],
   "source": [
    "# TEST CASE\n",
    "test = 3\n",
    "sol(test)\n",
    "# Expected: 2"
   ]
  }
 ],
 "metadata": {
  "kernelspec": {
   "display_name": "Python 3.11.2 64-bit",
   "language": "python",
   "name": "python3"
  },
  "language_info": {
   "codemirror_mode": {
    "name": "ipython",
    "version": 3
   },
   "file_extension": ".py",
   "mimetype": "text/x-python",
   "name": "python",
   "nbconvert_exporter": "python",
   "pygments_lexer": "ipython3",
   "version": "3.11.2"
  },
  "orig_nbformat": 4,
  "vscode": {
   "interpreter": {
    "hash": "1a1af0ee75eeea9e2e1ee996c87e7a2b11a0bebd85af04bb136d915cefc0abce"
   }
  }
 },
 "nbformat": 4,
 "nbformat_minor": 2
}

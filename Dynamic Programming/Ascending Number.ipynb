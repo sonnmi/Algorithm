{
 "cells": [
  {
   "cell_type": "markdown",
   "metadata": {},
   "source": [
    "[(kr)problem](https://www.acmicpc.net/problem/11057)\n",
    "\n",
    "Difficulty: Medium\n",
    "\n",
    "Question:\n",
    "\n",
    "```\n",
    "An ascending number is a number whose digits are in ascending order. At this time, even if adjacent numbers are the same, they are counted in ascending order.\n",
    "\n",
    "For example, 2234, 3678, and 11119 are uphill numbers, but 2232, 3676, and 91111 are not uphill numbers.\n",
    "\n",
    "Given the number length N, write a program to find the number of ascending numbers. Numbers can start with 0.\n",
    "\n",
    "output: In the first line, the remainder of dividing the number of ascending numbers of length N by 10,007 is output.\n",
    "```"
   ]
  },
  {
   "cell_type": "markdown",
   "metadata": {},
   "source": [
    "#### 2D Dynamic\n",
    "#### bottom up\n",
    "#### Time complexity: O(Nj)\n",
    "#### Time Taken: 15m"
   ]
  },
  {
   "cell_type": "code",
   "execution_count": 29,
   "metadata": {},
   "outputs": [],
   "source": [
    "def sol(N):\n",
    "    D = [[0] * 10 for i in range(N+1)]\n",
    "    m = 10_007\n",
    "    for j in range(0, 10):\n",
    "        D[1][j] = 1\n",
    "    for i in range(2, N+1):\n",
    "        for j in range(0, 10):\n",
    "            for k in range(0, j+1):\n",
    "                D[i][j] += (D[i-1][k]) % m\n",
    "    return sum(D[N]) % m"
   ]
  },
  {
   "cell_type": "markdown",
   "metadata": {},
   "source": [
    "#### **Explanation:**\n",
    "\n",
    "Equation: ```D[i][j] = sum((D[i-1][k]))``` where ```D[i][x] ``` is the number of ascending numbers of length i where 1 ≤ i ≤ N, 0 ≤ j ≤ 9, and 0 ≤ k ≤ j, which loops for each 10 1-digit numbers(j) and count for all numbers less or equal to j(k) to make sure it's ascending order."
   ]
  },
  {
   "cell_type": "code",
   "execution_count": 30,
   "metadata": {},
   "outputs": [
    {
     "data": {
      "text/plain": [
       "10"
      ]
     },
     "execution_count": 30,
     "metadata": {},
     "output_type": "execute_result"
    }
   ],
   "source": [
    "# TEST CASE\n",
    "test = 1\n",
    "sol(test)\n",
    "# Expected: 10"
   ]
  },
  {
   "cell_type": "code",
   "execution_count": 31,
   "metadata": {},
   "outputs": [
    {
     "data": {
      "text/plain": [
       "55"
      ]
     },
     "execution_count": 31,
     "metadata": {},
     "output_type": "execute_result"
    }
   ],
   "source": [
    "# TEST CASE\n",
    "test = 2\n",
    "sol(test)\n",
    "# Expected: 55"
   ]
  },
  {
   "cell_type": "code",
   "execution_count": 32,
   "metadata": {},
   "outputs": [
    {
     "data": {
      "text/plain": [
       "220"
      ]
     },
     "execution_count": 32,
     "metadata": {},
     "output_type": "execute_result"
    }
   ],
   "source": [
    "# TEST CASE\n",
    "test = 3\n",
    "sol(test)\n",
    "# Expected: 220"
   ]
  }
 ],
 "metadata": {
  "kernelspec": {
   "display_name": "Python 3.11.2 64-bit",
   "language": "python",
   "name": "python3"
  },
  "language_info": {
   "codemirror_mode": {
    "name": "ipython",
    "version": 3
   },
   "file_extension": ".py",
   "mimetype": "text/x-python",
   "name": "python",
   "nbconvert_exporter": "python",
   "pygments_lexer": "ipython3",
   "version": "3.11.2"
  },
  "orig_nbformat": 4,
  "vscode": {
   "interpreter": {
    "hash": "1a1af0ee75eeea9e2e1ee996c87e7a2b11a0bebd85af04bb136d915cefc0abce"
   }
  }
 },
 "nbformat": 4,
 "nbformat_minor": 2
}

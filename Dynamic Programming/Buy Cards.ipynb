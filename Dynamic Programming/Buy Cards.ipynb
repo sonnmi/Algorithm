{
 "cells": [
  {
   "cell_type": "markdown",
   "metadata": {},
   "source": [
    "[(kr)problem](https://www.acmicpc.net/problem/11052)\n",
    "\n",
    "Difficulty: Medium\n",
    "\n",
    "Question:\n",
    "\n",
    "```\n",
    "These days, it's popular in Mingyu's neighborhood to collect PS cards made by Startlink.\n",
    "\n",
    "PS cards are cards with the IDs and faces of famous people in the PS (Problem Solving) field written on them. Each card is colored with a color indicating its level, and there are eight types as follows.\n",
    "\n",
    "Legendary Card\n",
    "red card\n",
    "orange card\n",
    "Purple Card\n",
    "blue card\n",
    "Teal card\n",
    "green card\n",
    "gray card\n",
    "\n",
    "Cards can only be purchased in the form of card packs, and there are a total of N types of card packs, such as a card pack containing 1 card, a card pack containing 2 cards, and a card pack containing N cards.\n",
    "\n",
    "Mingyu believes in the superstition that even if a pack has a small number of cards, if the price is high, it will contain a lot of high-grade cards. Therefore, Min-gyu tries to purchase N cards by paying as much money as possible. The price of a card pack containing i cards is Pi won, Korean money.\n",
    "\n",
    "For example, if there are a total of 4 types of card packs and P1 = 1, P2 = 5, P3 = 6, and P4 = 7, the maximum amount that Min-gyu must pay to have 4 cards is 10 won. . You can buy the two card packs twice.\n",
    "\n",
    "In the case where P1 = 5, P2 = 2, P3 = 8, and P4 = 10, purchasing a card pack containing one card four times costs 20 won, and in this case, the maximum amount that Min-gyu must pay is 20 won.\n",
    "\n",
    "Lastly, in the case of P1 = 3, P2 = 5, P3 = 15, and P4 = 16, the maximum value is to purchase 3 card packs and 1 card pack and pay 18 won.\n",
    "\n",
    "Given the price of a card pack, write a program to find the maximum amount Min-gyu must pay to purchase N cards. It is impossible to buy more than N cards and then discard the remaining cards to make N. In other words, the sum of the number of cards included in the purchased card pack must be equal to N.\n",
    "\n",
    "The first line gives N, the number of cards that Min-gyu wants to purchase. (1 ≤ N ≤ 1,000)\n",
    "\n",
    "In the second line, Pi is given in order from P1 to PN. (1 ≤ Pi ≤ 10,000)\n",
    "```"
   ]
  },
  {
   "cell_type": "markdown",
   "metadata": {},
   "source": [
    "#### 1D Dynamic\n",
    "#### bottom up\n",
    "#### Time complexity: O(N)\n",
    "#### Time Taken: 37m"
   ]
  },
  {
   "cell_type": "code",
   "execution_count": 2,
   "metadata": {},
   "outputs": [],
   "source": [
    "def sol(N, P):\n",
    "    D = [0 for i in range(N+1)]\n",
    "    # Base Case: buy 1 card max price\n",
    "    P = [0] + P\n",
    "    for i in range(1, N+1):\n",
    "        D[i] = P[i]\n",
    "        for j in range(1, i):\n",
    "            D[i] = max(D[i], D[i-j] + D[j])\n",
    "            # D[i] = max(D[i], D[i-j] + P[j]) also works\n",
    "    return (D[N])"
   ]
  },
  {
   "cell_type": "markdown",
   "metadata": {},
   "source": [
    "#### **Explanation:**\n",
    "\n",
    "To buy i cards,\n",
    "- buy i-j cards, and j cards (1 ≤ j ≤ i)\n",
    "\n",
    "Base case:\n",
    "- D[1] = min(P) where P is a list of prices\n",
    "\n",
    "\n",
    "Equation: ```D[n] = min(D[n], D[i-j] + P[j])``` where 1 ≤ j ≤ i and ```D[n]``` is the minimum amount Min-gyu must pay to purchase N cards."
   ]
  },
  {
   "cell_type": "code",
   "execution_count": 3,
   "metadata": {},
   "outputs": [
    {
     "data": {
      "text/plain": [
       "10"
      ]
     },
     "execution_count": 3,
     "metadata": {},
     "output_type": "execute_result"
    }
   ],
   "source": [
    "# TEST CASE\n",
    "test = [1, 5, 6, 7]\n",
    "sol(4, test)\n",
    "# Expected: 10"
   ]
  },
  {
   "cell_type": "code",
   "execution_count": 4,
   "metadata": {},
   "outputs": [
    {
     "data": {
      "text/plain": [
       "50"
      ]
     },
     "execution_count": 4,
     "metadata": {},
     "output_type": "execute_result"
    }
   ],
   "source": [
    "# TEST CASE\n",
    "test = [10, 9, 8, 7, 6]\n",
    "sol(5, test)\n",
    "# Expected: 50"
   ]
  },
  {
   "cell_type": "code",
   "execution_count": 25,
   "metadata": {},
   "outputs": [
    {
     "data": {
      "text/plain": [
       "55"
      ]
     },
     "execution_count": 25,
     "metadata": {},
     "output_type": "execute_result"
    }
   ],
   "source": [
    "# TEST CASE\n",
    "test = [1, 1, 2, 3, 4, 8, 13, 21, 34, 55]\n",
    "sol(10, test)\n",
    "# Expected: 55"
   ]
  },
  {
   "cell_type": "code",
   "execution_count": 26,
   "metadata": {},
   "outputs": [
    {
     "data": {
      "text/plain": [
       "50"
      ]
     },
     "execution_count": 26,
     "metadata": {},
     "output_type": "execute_result"
    }
   ],
   "source": [
    "# TEST CASE\n",
    "test = [5, 10, 11, 12, 13, 30, 35, 40, 45, 47]\n",
    "sol(10, test)\n",
    "# Expected: 50"
   ]
  },
  {
   "cell_type": "code",
   "execution_count": 27,
   "metadata": {},
   "outputs": [
    {
     "data": {
      "text/plain": [
       "20"
      ]
     },
     "execution_count": 27,
     "metadata": {},
     "output_type": "execute_result"
    }
   ],
   "source": [
    "# TEST CASE\n",
    "test = [5, 2, 8, 10]\n",
    "sol(4, test)\n",
    "# Expected: 20"
   ]
  },
  {
   "cell_type": "code",
   "execution_count": 29,
   "metadata": {},
   "outputs": [
    {
     "data": {
      "text/plain": [
       "18"
      ]
     },
     "execution_count": 29,
     "metadata": {},
     "output_type": "execute_result"
    }
   ],
   "source": [
    "# TEST CASE\n",
    "test = [3, 5, 15, 16]\n",
    "sol(4, test)\n",
    "# Expected: 18"
   ]
  }
 ],
 "metadata": {
  "kernelspec": {
   "display_name": "Python 3.11.2 64-bit",
   "language": "python",
   "name": "python3"
  },
  "language_info": {
   "codemirror_mode": {
    "name": "ipython",
    "version": 3
   },
   "file_extension": ".py",
   "mimetype": "text/x-python",
   "name": "python",
   "nbconvert_exporter": "python",
   "pygments_lexer": "ipython3",
   "version": "3.11.2"
  },
  "orig_nbformat": 4,
  "vscode": {
   "interpreter": {
    "hash": "1a1af0ee75eeea9e2e1ee996c87e7a2b11a0bebd85af04bb136d915cefc0abce"
   }
  }
 },
 "nbformat": 4,
 "nbformat_minor": 2
}

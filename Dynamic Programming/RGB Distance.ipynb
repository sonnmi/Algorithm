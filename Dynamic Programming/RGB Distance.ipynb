{
 "cells": [
  {
   "cell_type": "markdown",
   "metadata": {},
   "source": [
    "[(kr)problem](https://www.acmicpc.net/problem/1149)\n",
    "\n",
    "Difficulty: Easy-Medium\n",
    "\n",
    "Related Problem: [Add 1,2,3 5]()\n",
    "\n",
    "Question:\n",
    "\n",
    "```\n",
    "There are N houses on RGB Street. The distance can be expressed as a line segment, with houses numbered 1 through N in order.\n",
    "\n",
    "The house must be painted one of the following colors: red, green, or blue. Given the cost of painting each house red, green, and blue, let's find the minimum cost of painting all houses while satisfying the rules below.\n",
    "\n",
    "The color of house number 1 should not be the same as the color of house number 2.\n",
    "The color of house N must not be the same as the color of house N-1.\n",
    "The color of house i(2 ≤ i ≤ N-1) must not be the same as the color of houses i-1 and i+1.\n",
    "\n",
    "input: The first line gives the number of houses N (2 ≤ N ≤ 1,000). Starting from the second row, the cost of painting each house red, green, and blue in N rows is given one per row, starting with house number 1. The cost of painting a house is a natural number less than or equal to 1,000.\n",
    "```"
   ]
  },
  {
   "cell_type": "markdown",
   "metadata": {},
   "source": [
    "#### 2D Dynamic\n",
    "#### bottom up\n",
    "#### Time complexity: O(N)\n",
    "#### Time Taken: 41m"
   ]
  },
  {
   "cell_type": "code",
   "execution_count": 21,
   "metadata": {},
   "outputs": [],
   "source": [
    "def sol(N, A):\n",
    "    D = [[0] * 3 for i in range(N+1)]\n",
    "    for i in range(1, N+1):\n",
    "        D[i][0] = min(D[i-1][1], D[i-1][2]) + A[i-1][0]\n",
    "        D[i][1] = min(D[i-1][0], D[i-1][2]) + A[i-1][1]\n",
    "        D[i][2] = min(D[i-1][0], D[i-1][1]) + A[i-1][2]\n",
    "    return min(D[N])"
   ]
  },
  {
   "cell_type": "markdown",
   "metadata": {},
   "source": [
    "#### **Explanation:**\n",
    "\n",
    "Codition:\n",
    "\n",
    "For 2 ≤ i ≤ N-1, i<sup>th</sup> house is neighbor of (i-1)<sup>th</sup> and (i+1)<sup>th</sup> houses.\n",
    "\n",
    "The 1st and the last houses are not neighbors.\n",
    "\n",
    "\n",
    "\n",
    "To avoid consecutive numbers happening, I used 2D array where ith row refers to total sum N and jth column refers to the number as color I summed at the last.\n",
    "\n",
    "Since there are 3 colors, I will refer to each color as a number 0,1,2.\n",
    "\n",
    "- When it ends with 1, the only possible combination is ?+2+1 and ?+3+1.\n",
    "- When it ends with 2, the only possible combination is ?+1+2 and ?+3+2.\n",
    "- When it ends with 3, the only possible combination is ?+1+3 and ?+2+3.\n",
    "\n",
    "Equation: ```D[i][x] = min(i(D[i-1][non_x]) + A[i][x]``` where ```D[i][x]``` is the minimum cost of painting i houses without consecutive colors in neighborhood and A[i][x] is the cost to paint i<sup>th</sup> house with x color where 0 ≤ x ≤ 2."
   ]
  },
  {
   "cell_type": "code",
   "execution_count": 23,
   "metadata": {},
   "outputs": [
    {
     "data": {
      "text/plain": [
       "96"
      ]
     },
     "execution_count": 23,
     "metadata": {},
     "output_type": "execute_result"
    }
   ],
   "source": [
    "# TEST CASE\n",
    "N = 3\n",
    "A = [[26, 40, 83], [49, 60, 57], [13, 89, 99]]\n",
    "sol(N, A)\n",
    "# Expected: 96"
   ]
  },
  {
   "cell_type": "code",
   "execution_count": 24,
   "metadata": {},
   "outputs": [
    {
     "data": {
      "text/plain": [
       "3"
      ]
     },
     "execution_count": 24,
     "metadata": {},
     "output_type": "execute_result"
    }
   ],
   "source": [
    "# TEST CASE\n",
    "N = 3\n",
    "A = [[1, 100, 100], [100, 1, 100], [100, 100, 1]]\n",
    "sol(N, A)\n",
    "# Expected: 3"
   ]
  },
  {
   "cell_type": "code",
   "execution_count": 25,
   "metadata": {},
   "outputs": [
    {
     "data": {
      "text/plain": [
       "102"
      ]
     },
     "execution_count": 25,
     "metadata": {},
     "output_type": "execute_result"
    }
   ],
   "source": [
    "# TEST CASE\n",
    "N = 3\n",
    "A = [[1, 100, 100], [100, 100, 100], [1, 100, 100]]\n",
    "sol(N, A)\n",
    "# Expected: 9"
   ]
  },
  {
   "cell_type": "code",
   "execution_count": 26,
   "metadata": {},
   "outputs": [
    {
     "data": {
      "text/plain": [
       "208"
      ]
     },
     "execution_count": 26,
     "metadata": {},
     "output_type": "execute_result"
    }
   ],
   "source": [
    "# TEST CASE\n",
    "N = 6\n",
    "A = [[30, 19, 5], [64, 77, 64], [15, 19, 97], [4, 71, 57], [90, 86, 84], [93, 32, 91]]\n",
    "sol(N, A)\n",
    "# Expected: 208"
   ]
  },
  {
   "cell_type": "code",
   "execution_count": 27,
   "metadata": {},
   "outputs": [
    {
     "data": {
      "text/plain": [
       "253"
      ]
     },
     "execution_count": 27,
     "metadata": {},
     "output_type": "execute_result"
    }
   ],
   "source": [
    "# TEST CASE\n",
    "N = 8\n",
    "A = [[71, 39, 44], [32, 83, 55], [51, 37, 63], [89, 29, 100], [83, 58, 11], [65, 13, 15], [47, 25, 29], [60, 66, 19]]\n",
    "sol(N, A)\n",
    "# Expected: 253"
   ]
  }
 ],
 "metadata": {
  "kernelspec": {
   "display_name": "Python 3.11.2 64-bit",
   "language": "python",
   "name": "python3"
  },
  "language_info": {
   "codemirror_mode": {
    "name": "ipython",
    "version": 3
   },
   "file_extension": ".py",
   "mimetype": "text/x-python",
   "name": "python",
   "nbconvert_exporter": "python",
   "pygments_lexer": "ipython3",
   "version": "3.11.2"
  },
  "orig_nbformat": 4,
  "vscode": {
   "interpreter": {
    "hash": "1a1af0ee75eeea9e2e1ee996c87e7a2b11a0bebd85af04bb136d915cefc0abce"
   }
  }
 },
 "nbformat": 4,
 "nbformat_minor": 2
}

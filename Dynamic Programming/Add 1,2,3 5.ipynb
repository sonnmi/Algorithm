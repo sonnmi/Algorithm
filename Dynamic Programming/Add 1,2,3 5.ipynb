{
 "cells": [
  {
   "cell_type": "markdown",
   "metadata": {},
   "source": [
    "[(kr)problem](https://www.acmicpc.net/problem/15990)\n",
    "\n",
    "Difficulty: Easy-Medium\n",
    "\n",
    "Related Problem: [Add 1,2,3]()\n",
    "\n",
    "Question:\n",
    "\n",
    "```\n",
    "There are three ways to express the integer 4 as the sum of 1, 2, and 3. When expressing a sum, you must use more than one number. However, the same number must not be used more than twice in succession.\n",
    "1+2+1\n",
    "1+3\n",
    "3+1\n",
    "\n",
    "Given an integer n, write a program to find the number of ways n can be expressed as the sum of 1, 2, and 3.\n",
    "\n",
    "For each test case, the number of ways to express n as the sum of 1, 2, and 3 is divided by 1,000,000,009, and the remainder is output.\n",
    "```"
   ]
  },
  {
   "cell_type": "markdown",
   "metadata": {},
   "source": [
    "#### 2D Dynamic\n",
    "#### bottom up\n",
    "#### Time complexity: O(N)\n",
    "#### Time Taken: 38m"
   ]
  },
  {
   "cell_type": "code",
   "execution_count": 28,
   "metadata": {},
   "outputs": [],
   "source": [
    "def sol(N):\n",
    "    D = [[0] * 4 for i in range(N+1)]\n",
    "    # Base Case: 1, 2, 3\n",
    "    D[1][1] = 1\n",
    "    if N >= 2:\n",
    "        D[2][2] = 1\n",
    "    if N >= 3:\n",
    "        D[3][1] = 1\n",
    "        D[3][2] = 1\n",
    "        D[3][3] = 1\n",
    "    for i in range(4, N+1):\n",
    "        D[i][1] = D[i-1][2] + D[i-1][3]\n",
    "        D[i][2] = D[i-2][1] + D[i-2][3]\n",
    "        D[i][3] = D[i-3][1] + D[i-3][2]\n",
    "        \n",
    "    return (D[N][1] + D[N][2] + D[N][3]) % 1_000_000_009"
   ]
  },
  {
   "cell_type": "markdown",
   "metadata": {},
   "source": [
    "#### **Explanation:**\n",
    "\n",
    "To avoid consecutive numbers happening, I used 2D array where ith row refers to total sum N and jth column refers to the number I summed at the last.\n",
    "- When it ends with 1, the only possible combination is ?+2+1 and ?+3+1.\n",
    "- When it ends with 2, the only possible combination is ?+1+2 and ?+3+2.\n",
    "- When it ends with 3, the only possible combination is ?+1+3 and ?+2+3.\n",
    "\n",
    "Equation: ```D[n][x] = sum(D[n-x][non_x])``` where ```D[n][x]``` is the number of ways to make a number n with 1, 2, and 3 that ends with x without consecutive numbers."
   ]
  },
  {
   "cell_type": "code",
   "execution_count": 29,
   "metadata": {},
   "outputs": [
    {
     "name": "stdout",
     "output_type": "stream",
     "text": [
      "3\n",
      "9\n",
      "27\n"
     ]
    }
   ],
   "source": [
    "# TEST CASE\n",
    "def test_helper(T):\n",
    "    for n in T:\n",
    "        print(sol(n))\n",
    "\n",
    "test = [4,7,10]\n",
    "\n",
    "test_helper(test)\n",
    "# Expected:\n",
    "# 3\n",
    "# 9\n",
    "# 27"
   ]
  },
  {
   "cell_type": "markdown",
   "metadata": {},
   "source": [
    "### **Baekjoon Online Judge Test Result**\n",
    "\n",
    "There was Time Limit Error. I had to mod each because N could be up to 100000 and summing D[N] is really big. Also, for time efficiency instead of solving the same D[N] `t` times, I solved D[N] for N ≤ 100001, the limit given.\n",
    "\n",
    "Passed:\n",
    "```Python\n",
    "N = 100_001\n",
    "m = 1_000_000_009\n",
    "D = [[0] * 4 for i in range(N)]\n",
    "D[1][1] = 1\n",
    "D[2][2] = 1\n",
    "D[3][1] = 1\n",
    "D[3][2] = 1\n",
    "D[3][3] = 1\n",
    "for i in range(4, 100_001):\n",
    "    D[i][1] = (D[i-1][2] + D[i-1][3]) % m\n",
    "    D[i][2] = (D[i-2][1] + D[i-2][3]) % m\n",
    "    D[i][3] = (D[i-3][1] + D[i-3][2]) % m\n",
    "        \n",
    "t = int(input())\n",
    "for i in range(t):\n",
    "    n = int(input())\n",
    "    print(sum(D[n]) % m)\n",
    "```\n",
    "\n",
    "__________\n",
    "Other solution:\n",
    "``` Python\n",
    "limit = 100000\n",
    "d = [[0]*4 for _ in range(limit+1)]\n",
    "mod = 1000000009\n",
    "for i in range(1, limit+1):\n",
    "    if i-1 >= 0:\n",
    "        d[i][1] = d[i-1][2] + d[i-1][3]\n",
    "        if i == 1:\n",
    "            d[i][1] = 1\n",
    "    if i-2 >= 0:\n",
    "        d[i][2] = d[i-2][1] + d[i-2][3]\n",
    "        if i == 2:\n",
    "            d[i][2] = 1\n",
    "    if i-3 >= 0:\n",
    "        d[i][3] = d[i-3][1] + d[i-3][2]\n",
    "        if i == 3:\n",
    "            d[i][3] = 1\n",
    "    d[i][1] %= mod\n",
    "    d[i][2] %= mod\n",
    "    d[i][3] %= mod\n",
    "\n",
    "t = int(input())\n",
    "for _ in range(t):\n",
    "    n = int(input())\n",
    "    print(sum(d[n])%mod)\n",
    "```"
   ]
  }
 ],
 "metadata": {
  "kernelspec": {
   "display_name": "Python 3.11.2 64-bit",
   "language": "python",
   "name": "python3"
  },
  "language_info": {
   "codemirror_mode": {
    "name": "ipython",
    "version": 3
   },
   "file_extension": ".py",
   "mimetype": "text/x-python",
   "name": "python",
   "nbconvert_exporter": "python",
   "pygments_lexer": "ipython3",
   "version": "3.11.2"
  },
  "orig_nbformat": 4,
  "vscode": {
   "interpreter": {
    "hash": "1a1af0ee75eeea9e2e1ee996c87e7a2b11a0bebd85af04bb136d915cefc0abce"
   }
  }
 },
 "nbformat": 4,
 "nbformat_minor": 2
}

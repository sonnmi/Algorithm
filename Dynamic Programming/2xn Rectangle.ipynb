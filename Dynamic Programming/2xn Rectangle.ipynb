{
 "cells": [
  {
   "cell_type": "markdown",
   "metadata": {},
   "source": [
    "[(kr)problem](https://www.acmicpc.net/problem/11726)\n",
    "\n",
    "Difficulty: Easy\n",
    "\n",
    "Time Taken: 30m\n",
    "\n",
    "Question:\n",
    "```\n",
    "Write a program to find the number of ways to fill a rectangle of size 2×n with 1×2 and 2×1 tiles.\n",
    "\n",
    "n is given in the first line. (1 ≤ n ≤ 1,000)\n",
    "\n",
    "In the first line, the number of ways to fill a 2×n rectangle is divided by 10,007 and the remainder is output.\n",
    "```"
   ]
  },
  {
   "cell_type": "code",
   "execution_count": 20,
   "metadata": {},
   "outputs": [],
   "source": [
    "# bottom up\n",
    "# Time complexity: O(N)\n",
    "def sol(n):\n",
    "    D = [0 for i in range(n+1)]\n",
    "    # i = nth tile\n",
    "    # There are 2 ways to put one 2xn tiles.\n",
    "    # 1) one 2x1, two 1x2 = 2x2\n",
    "    D[1] = 1\n",
    "    if n > 1:   # handle IndexError\n",
    "        D[2] = 2\n",
    "    for i in range(3, n+1):\n",
    "        D[i] = (D[i-1] + D[i-2])\n",
    "    return D[n] % 10007     # remainder as an output."
   ]
  },
  {
   "cell_type": "markdown",
   "metadata": {},
   "source": [
    "***Explanation:***\n",
    "\n",
    "There are 2 ways to put tiles to make one 2xn rectangle.\n",
    "- one 2x1\n",
    "- two 1x2 = 2x2\n",
    "\n",
    "Since we need to find the ***total*** number to fill a rectancle of size 2xn, we just need to sum the number of making 2x(n-1) and the number of making 2x(n-2).\n",
    "\n",
    "Equation: ```D[n] = D[n-1] + D[n-2]``` where ```D[n]``` is the number of ways to fill a 2xn rectangle.\n",
    "\n",
    "\n",
    "***Note***: It works for i ≤ n.\n",
    "\n",
    "the number of ways to make a 2x(n-1) rectangle = D[n-2] + D[n-3]"
   ]
  },
  {
   "cell_type": "code",
   "execution_count": 21,
   "metadata": {},
   "outputs": [
    {
     "data": {
      "text/plain": [
       "2"
      ]
     },
     "execution_count": 21,
     "metadata": {},
     "output_type": "execute_result"
    }
   ],
   "source": [
    "# TEST CASE\n",
    "test = 2\n",
    "sol(test)\n",
    "# Expected: 2"
   ]
  },
  {
   "cell_type": "code",
   "execution_count": 22,
   "metadata": {},
   "outputs": [
    {
     "data": {
      "text/plain": [
       "55"
      ]
     },
     "execution_count": 22,
     "metadata": {},
     "output_type": "execute_result"
    }
   ],
   "source": [
    "# TEST CASE\n",
    "test = 9\n",
    "sol(test)\n",
    "# Expected: 55"
   ]
  }
 ],
 "metadata": {
  "kernelspec": {
   "display_name": "Python 3.11.2 64-bit",
   "language": "python",
   "name": "python3"
  },
  "language_info": {
   "codemirror_mode": {
    "name": "ipython",
    "version": 3
   },
   "file_extension": ".py",
   "mimetype": "text/x-python",
   "name": "python",
   "nbconvert_exporter": "python",
   "pygments_lexer": "ipython3",
   "version": "3.11.2"
  },
  "orig_nbformat": 4,
  "vscode": {
   "interpreter": {
    "hash": "1a1af0ee75eeea9e2e1ee996c87e7a2b11a0bebd85af04bb136d915cefc0abce"
   }
  }
 },
 "nbformat": 4,
 "nbformat_minor": 2
}

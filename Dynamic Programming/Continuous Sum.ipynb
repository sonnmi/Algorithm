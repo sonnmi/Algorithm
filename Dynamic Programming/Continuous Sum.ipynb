{
 "cells": [
  {
   "cell_type": "markdown",
   "metadata": {},
   "source": [
    "[(kr)problem](https://www.acmicpc.net/problem/1912)\n",
    "\n",
    "Difficulty: Easy\n",
    "\n",
    "Question:\n",
    "\n",
    "```\n",
    "We are given a random sequence of n integers. We choose several consecutive numbers and try to find the largest sum that can be obtained. However, you must select more than one number.\n",
    "\n",
    "For example, let's say we are given the sequence 10, -4, 3, 1, 5, 6, -35, 12, 21, -1. Here, the correct answer is 12+21, which is 33.\n",
    "\n",
    "Input: The natural number N is given in the first line. (1 ≤ N ≤ 100,000)\n",
    "```"
   ]
  },
  {
   "cell_type": "markdown",
   "metadata": {},
   "source": [
    "#### 1D Dynamic\n",
    "#### bottom up\n",
    "#### Time complexity: O(N)\n",
    "#### Time Taken: 15m"
   ]
  },
  {
   "cell_type": "code",
   "execution_count": 15,
   "metadata": {},
   "outputs": [],
   "source": [
    "def sol(N, A):\n",
    "    D = [0 for i in range(N+1)]\n",
    "    A = [0] + A\n",
    "    for i in range(1, N+1):\n",
    "        D[i] = A[i]\n",
    "        if D[i-1] + A[i] > D[i]:\n",
    "            D[i] = D[i-1] + A[i]\n",
    "    return (max(D[1:])) # to ignore the 0th index number"
   ]
  },
  {
   "cell_type": "markdown",
   "metadata": {},
   "source": [
    "#### **Explanation:**\n",
    "\n",
    "Simple logic:\n",
    "- We store the maximum sum with consecutive numbers of a sequence A until ith index in D[i]. Note that the sum will always include A[i] because we only consider a consecutive sum until ith index.\n",
    "- if the sum of `..., (i-1)th, ith number` is less than `ith number`, we throw away the sum and reset to `ith number`. Keep going until the end of the sequence. Return the maximum sum during the journey.\n",
    "\n",
    "Base case:\n",
    "- A[i] for 1 ≤ i ≤ n\n",
    "\n",
    "Equation: ```D[i] = max(D[i-1] + A[i], A[i]``` where ```D[i]``` is the largest sum with consecutive numbers of a sequence A where 1 ≤ i ≤ n"
   ]
  },
  {
   "cell_type": "code",
   "execution_count": 16,
   "metadata": {},
   "outputs": [
    {
     "data": {
      "text/plain": [
       "33"
      ]
     },
     "execution_count": 16,
     "metadata": {},
     "output_type": "execute_result"
    }
   ],
   "source": [
    "# TEST CASE\n",
    "test = [10, -4, 3, 1, 5, 6, -35, 12, 21, -1]\n",
    "sol(10, test)\n",
    "# Expected: 33"
   ]
  },
  {
   "cell_type": "code",
   "execution_count": 17,
   "metadata": {},
   "outputs": [
    {
     "data": {
      "text/plain": [
       "14"
      ]
     },
     "execution_count": 17,
     "metadata": {},
     "output_type": "execute_result"
    }
   ],
   "source": [
    "# TEST CASE\n",
    "test = [2, 1, -4, 3, 4, -4, 6, 5, -5, 1]\n",
    "sol(10, test)\n",
    "# Expected: 14"
   ]
  },
  {
   "cell_type": "code",
   "execution_count": 18,
   "metadata": {},
   "outputs": [
    {
     "data": {
      "text/plain": [
       "-1"
      ]
     },
     "execution_count": 18,
     "metadata": {},
     "output_type": "execute_result"
    }
   ],
   "source": [
    "# TEST CASE\n",
    "test = [-1, -2, -3, -4, -5]\n",
    "sol(5, test)\n",
    "# Expected: -1"
   ]
  }
 ],
 "metadata": {
  "kernelspec": {
   "display_name": "Python 3.11.2 64-bit",
   "language": "python",
   "name": "python3"
  },
  "language_info": {
   "codemirror_mode": {
    "name": "ipython",
    "version": 3
   },
   "file_extension": ".py",
   "mimetype": "text/x-python",
   "name": "python",
   "nbconvert_exporter": "python",
   "pygments_lexer": "ipython3",
   "version": "3.11.2"
  },
  "orig_nbformat": 4,
  "vscode": {
   "interpreter": {
    "hash": "1a1af0ee75eeea9e2e1ee996c87e7a2b11a0bebd85af04bb136d915cefc0abce"
   }
  }
 },
 "nbformat": 4,
 "nbformat_minor": 2
}

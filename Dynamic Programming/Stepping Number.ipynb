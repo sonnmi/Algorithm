{
 "cells": [
  {
   "cell_type": "markdown",
   "metadata": {},
   "source": [
    "[(kr)problem](https://www.acmicpc.net/problem/10844)\n",
    "\n",
    "Difficulty: Easy-Medium\n",
    "\n",
    "Question:\n",
    "\n",
    "```\n",
    "Let's look at the number 45656.\n",
    "\n",
    "The difference between all adjacent digits of this number is 1. This number is called a stepping number.\n",
    "\n",
    "Given N, let's find the total number of stepping numbers of length N. Numbers starting with 0 are not stepping numbers.\n",
    "\n",
    "The first line prints the remainder of dividing the correct answer by 1,000,000,000.\n",
    "```"
   ]
  },
  {
   "cell_type": "markdown",
   "metadata": {},
   "source": [
    "#### 2D Dynamic\n",
    "#### bottom up\n",
    "#### Time complexity: O(N<sup>2</sup>)\n",
    "#### Time Taken: 15m"
   ]
  },
  {
   "cell_type": "code",
   "execution_count": 21,
   "metadata": {},
   "outputs": [],
   "source": [
    "def sol(N):\n",
    "    D = [[0] * 10 for i in range(N+1)]\n",
    "    # Base Case: 1-9 is possible stepping number\n",
    "    for i in range(1, 10):\n",
    "        D[1][i] = 1\n",
    "    for i in range(2, N+1):\n",
    "        for j in range(10):\n",
    "            if j == 0:\n",
    "                D[i][j] = D[i-1][j+1]\n",
    "            elif j == 9:\n",
    "                D[i][j] = D[i-1][j-1]\n",
    "            else:\n",
    "                D[i][j] = D[i-1][j-1] + D[i-1][j+1]\n",
    "    return (sum(D[N])) % 1_000_000_000"
   ]
  },
  {
   "cell_type": "markdown",
   "metadata": {},
   "source": [
    "#### **Explanation:**\n",
    "\n",
    "There are 2 ways to fill a digit, for 1 ≤ X ≤ 8\n",
    "- _X\n",
    "    - (X-1) X\n",
    "    - (X+1) X\n",
    "There are 1 way to fill a digit, for X = 0 and X = 9\n",
    "- For X = 0, 1 X\n",
    "- For X = 9, 8 X\n",
    "\n",
    "Base case:\n",
    "- 1,2,3,4,5,6,7,8,9 (it cannot start with 0)\n",
    "\n",
    "*Note*: Because X is from 0 to 9, we will loop for each number to try everything.\n",
    "\n",
    "Equation: ```D[n][x] = D[n-1][x-1] + D[n-1][x+1]``` where ```D[n][x]``` is the number of N-digit stepping numbers that ends with x."
   ]
  },
  {
   "cell_type": "code",
   "execution_count": 22,
   "metadata": {},
   "outputs": [
    {
     "data": {
      "text/plain": [
       "9"
      ]
     },
     "execution_count": 22,
     "metadata": {},
     "output_type": "execute_result"
    }
   ],
   "source": [
    "# TEST CASE\n",
    "test = 1\n",
    "sol(test)\n",
    "# Expected: 9"
   ]
  },
  {
   "cell_type": "code",
   "execution_count": 23,
   "metadata": {},
   "outputs": [
    {
     "data": {
      "text/plain": [
       "17"
      ]
     },
     "execution_count": 23,
     "metadata": {},
     "output_type": "execute_result"
    }
   ],
   "source": [
    "# TEST CASE\n",
    "test = 2\n",
    "sol(test)\n",
    "# Expected: 17"
   ]
  }
 ],
 "metadata": {
  "kernelspec": {
   "display_name": "Python 3.11.2 64-bit",
   "language": "python",
   "name": "python3"
  },
  "language_info": {
   "codemirror_mode": {
    "name": "ipython",
    "version": 3
   },
   "file_extension": ".py",
   "mimetype": "text/x-python",
   "name": "python",
   "nbconvert_exporter": "python",
   "pygments_lexer": "ipython3",
   "version": "3.11.2"
  },
  "orig_nbformat": 4,
  "vscode": {
   "interpreter": {
    "hash": "1a1af0ee75eeea9e2e1ee996c87e7a2b11a0bebd85af04bb136d915cefc0abce"
   }
  }
 },
 "nbformat": 4,
 "nbformat_minor": 2
}

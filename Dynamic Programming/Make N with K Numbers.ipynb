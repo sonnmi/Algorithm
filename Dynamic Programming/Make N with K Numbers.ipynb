{
 "cells": [
  {
   "cell_type": "markdown",
   "metadata": {},
   "source": [
    "[(kr)problem](https://www.acmicpc.net/problem/2225)\n",
    "\n",
    "Difficulty: Medium-Hard (becuase of index)\n",
    "\n",
    "Question:\n",
    "\n",
    "```\n",
    "Write a program to add K integers from 0 to N and find the number of ways the sum becomes N.\n",
    "\n",
    "If the order of addition is changed, it is counted as a different case (1+2 and 2+1 are different cases). Also, one number can be written multiple times.\n",
    "\n",
    "The first line prints the remainder of dividing the answer by 1,000,000,000.\n",
    "```"
   ]
  },
  {
   "cell_type": "markdown",
   "metadata": {},
   "source": [
    "#### 2D Dynamic\n",
    "#### bottom up\n",
    "#### Time complexity: O(KN<sup>2</sup>)\n",
    "#### Time Taken: 15m"
   ]
  },
  {
   "cell_type": "code",
   "execution_count": 31,
   "metadata": {},
   "outputs": [],
   "source": [
    "def sol(N, K):\n",
    "    D = [[0] * (N+1) for i in range(K+1)]\n",
    "    D[0][0] = 1\n",
    "    for i in range(1, K+1):\n",
    "        for j in range(0, N+1):\n",
    "            for u in range(0, j+1):\n",
    "                D[i][j] += D[i-1][j-u]\n",
    "    return (sum(D[K-1])) % 1_000_000_000"
   ]
  },
  {
   "cell_type": "markdown",
   "metadata": {},
   "source": [
    "#### **Explanation:**\n",
    "\n",
    "There are N ways to sum (1 term), 0 to N\n",
    "\n",
    "Since the sum must be N using K numbers, if we call the last number to make N was u, the previous is (N-u). This also means that, to make sum (N-u), we have used (K-1) numbers.\n",
    "\n",
    "Equation: ```D[K][N] = sum(D[K-1][N-u]) for 0 ≤ u ≤ N``` where ```D[n][x]``` is the number of ways we add K numbers to make N."
   ]
  },
  {
   "cell_type": "markdown",
   "metadata": {},
   "source": [
    "#### **Code Note:**\n",
    "**Note that ```D[0][0] = 1``` in code. Also, note ```for j in range(0, N+1)```. Even though N > 0, we solve index 0 because it is like Ø is still a set and not empty.**"
   ]
  },
  {
   "cell_type": "code",
   "execution_count": 32,
   "metadata": {},
   "outputs": [
    {
     "data": {
      "text/plain": [
       "21"
      ]
     },
     "execution_count": 32,
     "metadata": {},
     "output_type": "execute_result"
    }
   ],
   "source": [
    "# TEST CASE\n",
    "N = 20\n",
    "K = 2\n",
    "sol(N, K)\n",
    "# Expected: 21"
   ]
  },
  {
   "cell_type": "code",
   "execution_count": 33,
   "metadata": {},
   "outputs": [
    {
     "data": {
      "text/plain": [
       "84"
      ]
     },
     "execution_count": 33,
     "metadata": {},
     "output_type": "execute_result"
    }
   ],
   "source": [
    "# TEST CASE\n",
    "N = 6\n",
    "K = 4\n",
    "sol(N, K)\n",
    "# Expected: 84"
   ]
  }
 ],
 "metadata": {
  "kernelspec": {
   "display_name": "Python 3.11.2 64-bit",
   "language": "python",
   "name": "python3"
  },
  "language_info": {
   "codemirror_mode": {
    "name": "ipython",
    "version": 3
   },
   "file_extension": ".py",
   "mimetype": "text/x-python",
   "name": "python",
   "nbconvert_exporter": "python",
   "pygments_lexer": "ipython3",
   "version": "3.11.2"
  },
  "orig_nbformat": 4,
  "vscode": {
   "interpreter": {
    "hash": "1a1af0ee75eeea9e2e1ee996c87e7a2b11a0bebd85af04bb136d915cefc0abce"
   }
  }
 },
 "nbformat": 4,
 "nbformat_minor": 2
}

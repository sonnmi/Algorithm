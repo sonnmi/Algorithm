{
 "cells": [
  {
   "cell_type": "markdown",
   "metadata": {},
   "source": [
    "[(kr)problem](https://www.acmicpc.net/problem/1463)\n",
    "\n",
    "Difficulty: Easy-Medium\n",
    "\n",
    "Time Taken: 30m\n",
    "\n",
    "Question:\n",
    "\n",
    "```\n",
    "There are three operations that can be used on integer X as follows.\n",
    "If X is divisible by 3, divide by 3.\n",
    "If X is divisible by 2, divide by 2.\n",
    "Subtract 1.\n",
    "Given the integer N, we try to create 1 by appropriately using the three operations above. Print the minimum number of times the operation is used.\n",
    "\n",
    "Condition: In the first line, an integer N greater than or equal to 1 and less than or equal to 10^6 is given.\n",
    "```"
   ]
  },
  {
   "cell_type": "code",
   "execution_count": 1,
   "metadata": {},
   "outputs": [],
   "source": [
    "# bottom up\n",
    "# Time complexity: O(N)\n",
    "def sol(N):\n",
    "    D = [0 for i in range(N+1)]\n",
    "    D[1] = 0\n",
    "    for i in range(2, N+1):\n",
    "        D[i] = D[i-1] + 1\n",
    "        if (i % 2 == 0 and D[i] > D[i//2] + 1):\n",
    "            D[i] = D[i//2] + 1\n",
    "        if (i % 3 == 0 and D[i] > D[i//3] + 1):\n",
    "            D[i] = D[i//3] + 1\n",
    "    return D[N]"
   ]
  },
  {
   "cell_type": "code",
   "execution_count": 2,
   "metadata": {},
   "outputs": [
    {
     "data": {
      "text/plain": [
       "1"
      ]
     },
     "execution_count": 2,
     "metadata": {},
     "output_type": "execute_result"
    }
   ],
   "source": [
    "# TEST CASE\n",
    "test = 2\n",
    "sol(test)\n",
    "# Expected: 1"
   ]
  },
  {
   "cell_type": "code",
   "execution_count": 3,
   "metadata": {},
   "outputs": [
    {
     "data": {
      "text/plain": [
       "3"
      ]
     },
     "execution_count": 3,
     "metadata": {},
     "output_type": "execute_result"
    }
   ],
   "source": [
    "# TEST CASE\n",
    "test = 10\n",
    "sol(test)\n",
    "# Expected: 3"
   ]
  }
 ],
 "metadata": {
  "kernelspec": {
   "display_name": "Python 3.11.2 64-bit",
   "language": "python",
   "name": "python3"
  },
  "language_info": {
   "codemirror_mode": {
    "name": "ipython",
    "version": 3
   },
   "file_extension": ".py",
   "mimetype": "text/x-python",
   "name": "python",
   "nbconvert_exporter": "python",
   "pygments_lexer": "ipython3",
   "version": "3.11.2"
  },
  "orig_nbformat": 4,
  "vscode": {
   "interpreter": {
    "hash": "1a1af0ee75eeea9e2e1ee996c87e7a2b11a0bebd85af04bb136d915cefc0abce"
   }
  }
 },
 "nbformat": 4,
 "nbformat_minor": 2
}

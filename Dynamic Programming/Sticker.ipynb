{
 "cells": [
  {
   "cell_type": "markdown",
   "metadata": {},
   "source": [
    "[(kr)problem](https://www.acmicpc.net/problem/9465)\n",
    "\n",
    "Difficulty: Easy-Medium\n",
    "\n",
    "Question:\n",
    "\n",
    "```\n",
    "Sang-geun's younger sister, Sang-nyang, purchased 2n stickers at a stationery store. Stickers are arranged in 2 rows and n columns as shown in figure (a). Sangnyang is trying to decorate her desk using stickers.\n",
    "\n",
    "The quality of the stickers that Sangnyang purchased is very poor. If you tear off one sticker, all stickers that share a space with that sticker will be torn and unusable. In other words, stickers to the left, right, above, and below the removed sticker cannot be used.\n",
    "\n",
    "Unable to put all the stickers on, Sangnyang scores each sticker and tries to remove them to maximize the total score. First, each sticker was scored as shown in Figure (b). Write a program to find the maximum number of sticker points that a sweet cat can take off. In other words, among 2n stickers, we need to find a set of stickers that maximize the sum of scores and do not share any edges.\n",
    "\n",
    "In the case of the picture above, if you select stickers with scores of 50, 50, 100, and 60, the score becomes 260, which is the maximum score. The two stickers with the highest scores (100 and 70) share a side, so they cannot be removed at the same time.\n",
    "\n",
    "input: The number of test cases T is given in the first line. The first line of each test case contains n (1 ≤ n ≤ 100,000). In the next two lines, n integers are given, and each integer is the score of the sticker corresponding to that position. There is a blank space between two consecutive integers. The score is an integer greater than or equal to 0 and less than or equal to 100.\n",
    "\n",
    "output: For each test case, the maximum value of the sticker score that does not share two sides among 2n stickers is output.\n",
    "```"
   ]
  },
  {
   "cell_type": "markdown",
   "metadata": {},
   "source": [
    "#### 2D Dynamic\n",
    "#### bottom up\n",
    "#### Time complexity: O(N)\n",
    "#### Time Taken: 15m"
   ]
  },
  {
   "cell_type": "code",
   "execution_count": 25,
   "metadata": {},
   "outputs": [],
   "source": [
    "def sol(N, A):\n",
    "    D = [[0] * 3 for i in range(N+1)]\n",
    "    A[0] = [0] + A[0]\n",
    "    A[1] = [0] + A[1]\n",
    "    D[1][1] = A[0][1]\n",
    "    D[1][2] = A[1][1]\n",
    "    for i in range(2, N+1):\n",
    "        D[i][0] = max(D[i-1][1], D[i-1][2])\n",
    "        D[i][1] = max(D[i-1][0], D[i-1][2]) + A[0][i]\n",
    "        D[i][2] = max(D[i-1][0], D[i-1][1]) + A[1][i]\n",
    "    return max(D[N])"
   ]
  },
  {
   "cell_type": "markdown",
   "metadata": {},
   "source": [
    "#### **Explanation:**\n",
    "\n",
    "The numbers written on sticker is non-negative, but we cannot pick by biggest order because cannot take off stickers like [X X] in a 2X1 cell.\n",
    "\n",
    "There are 2 ways to take off a sticker in each 2X1 cell, among 2XN cells.\n",
    "\n",
    "Note: Even for some 2X1 sticker set, we might not want to choose any sticker in the area because it could be [[0,1,100], [200,1,1]]. We want 200 + 100 without second area choosing 1 because it is adjacent to 100.\n",
    "\n",
    "1. _ _\n",
    "    - X _   (next turn)\n",
    "    - _ X   (next turn)\n",
    "1. X _\n",
    "    - _ _   (next turn)\n",
    "    - _ X   (next turn)\n",
    "2. _ X\n",
    "    - _ _   (next turn)\n",
    "    - X _   (next turn)\n",
    "\n",
    "to satisfy we do not share any edges.\n",
    "\n",
    "Represnt the 2 cases as indexes 0, 1.\n",
    "\n",
    "0. _ _\n",
    "    - D[i][0] = D[i-1][1] + D[i-1][2]\n",
    "1. X _\n",
    "    - D[i][1] = D[i-1][0] + D[i-1][2]\n",
    "2. _ X\n",
    "    - D[i][2] = D[i-1][0] + D[i-1][1]\n",
    "\n",
    "Equation: ```D[i][x] = D[i][non_x]``` where ```D[i][x]``` is the maximum value of the sticker score that does not share two sides among 2Xi stickers and 0 ≤ x ≤ 2 represents location of a sticker."
   ]
  },
  {
   "cell_type": "code",
   "execution_count": 26,
   "metadata": {},
   "outputs": [
    {
     "name": "stdout",
     "output_type": "stream",
     "text": [
      "260\n",
      "290\n"
     ]
    }
   ],
   "source": [
    "# TEST CASE\n",
    "def test_helper(T):\n",
    "    t = T[0]\n",
    "    i = 1\n",
    "    for _ in range(t):\n",
    "        n = T[i]\n",
    "        print(sol(n, T[i+1]))\n",
    "        i += 2\n",
    "\n",
    "test = [2,5,[[50, 10, 100, 20, 40], [30, 50, 70, 10, 60]], 7, [[10, 30, 10, 50, 100, 20, 40], [20, 40, 30, 50, 60, 20, 80]]]\n",
    "\n",
    "test_helper(test)\n",
    "# Expected:\n",
    "# 260\n",
    "# 290"
   ]
  }
 ],
 "metadata": {
  "kernelspec": {
   "display_name": "Python 3.11.2 64-bit",
   "language": "python",
   "name": "python3"
  },
  "language_info": {
   "codemirror_mode": {
    "name": "ipython",
    "version": 3
   },
   "file_extension": ".py",
   "mimetype": "text/x-python",
   "name": "python",
   "nbconvert_exporter": "python",
   "pygments_lexer": "ipython3",
   "version": "3.11.2"
  },
  "orig_nbformat": 4,
  "vscode": {
   "interpreter": {
    "hash": "1a1af0ee75eeea9e2e1ee996c87e7a2b11a0bebd85af04bb136d915cefc0abce"
   }
  }
 },
 "nbformat": 4,
 "nbformat_minor": 2
}

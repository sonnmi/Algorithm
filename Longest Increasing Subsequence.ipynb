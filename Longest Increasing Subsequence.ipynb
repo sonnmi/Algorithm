{
 "cells": [
  {
   "cell_type": "markdown",
   "metadata": {},
   "source": [
    "[(kr)problem](https://www.acmicpc.net/problem/14002)\n",
    "\n",
    "Difficulty: Medium\n",
    "\n",
    "Related Problem: [Longest Increasing Subsequence](./Longest%20Increasing%20Subsequence.ipynb)\n",
    "\n",
    "Question:\n",
    "\n",
    "```\n",
    "Given a sequence A, write a program to find the longest increasing subsequence.\n",
    "\n",
    "For example, for the sequence A = {10, 20, 10, 30, 20, 50}, the longest increasing subsequence is A = {10, 20, 10, 30, 20, 50}, with length 4. am.\n",
    "\n",
    "Input: The first line gives the size N (1 ≤ N ≤ 1,000) of sequence A.\n",
    "\n",
    "In the second line, Ai, which forms the sequence A, is given. (1 ≤ AI ≤ 1,000)\n",
    "\n",
    "Output: The first line prints the length of the longest increasing subsequence of sequence A.\n",
    "\n",
    "The second line prints the longest increasing subsequence. If there are multiple such sequences, any one is output.\n",
    "```"
   ]
  },
  {
   "cell_type": "markdown",
   "metadata": {},
   "source": [
    "#### 1D Dynamic\n",
    "#### bottom up\n",
    "#### Time complexity: O(N<sup>2</sup>)\n",
    "#### Time Taken: 30m"
   ]
  },
  {
   "cell_type": "code",
   "execution_count": 13,
   "metadata": {},
   "outputs": [],
   "source": [
    "def sol(N, A):\n",
    "    D = [0 for i in range(N+1)]\n",
    "    A = [0] + A\n",
    "    for i in range(1, N+1):\n",
    "        D[i] = 1 # for itself\n",
    "        for j in range(1, i):\n",
    "            if (A[j] < A[i] and D[j] + 1 > D[i]):\n",
    "                D[i] =  D[j] + 1\n",
    "    return (max(D))"
   ]
  },
  {
   "cell_type": "markdown",
   "metadata": {},
   "source": [
    "#### **Explanation:**\n",
    "\n",
    "If we have a sequence as A<sub>1</sub>, A<sub>2</sub>, ... A<sub>n</sub>, a longest increasing subsequence would always look something like the following: A<sub>a</sub>, A<sub>b</sub>, ..., A<sub>i</sub> where i is the position we are looking at right now (1 ≤ i ≤ n).\n",
    "\n",
    "Let A<sub>j</sub> be the one we found before A<sub>i</sub>. Because we find a subsequence, j and i does not have to be consecutive. We have a condition where j < i and A[j] < A[i].\n",
    "\n",
    "We will have the following subsequence and keep looking for the longest subsequence until i reaches n (but the subsequence doesn't have to include A<sub>n</sub> of course). A<sub>a</sub>, A<sub>b</sub>, ..., A<sub>j</sub>, A<sub>i</sub>\n",
    "\n",
    "We look for 1 ≤ j < i for each 1 ≤ i ≤ n.\n",
    "\n",
    "Base case:\n",
    "- A[i]\n",
    "\n",
    "Equation: ```D[i] = max(D[j]) + 1``` where ```D[i]``` is the length of the longest increasing subsequence of a sequence A until the position i where 1 ≤ i ≤ n and j < i and A[j] < A[i]."
   ]
  },
  {
   "cell_type": "code",
   "execution_count": 14,
   "metadata": {},
   "outputs": [
    {
     "data": {
      "text/plain": [
       "4"
      ]
     },
     "execution_count": 14,
     "metadata": {},
     "output_type": "execute_result"
    }
   ],
   "source": [
    "# TEST CASE\n",
    "test = [10, 20, 10, 30, 20, 50]\n",
    "sol(6, test)\n",
    "# Expected: 4"
   ]
  }
 ],
 "metadata": {
  "kernelspec": {
   "display_name": "Python 3.11.2 64-bit",
   "language": "python",
   "name": "python3"
  },
  "language_info": {
   "codemirror_mode": {
    "name": "ipython",
    "version": 3
   },
   "file_extension": ".py",
   "mimetype": "text/x-python",
   "name": "python",
   "nbconvert_exporter": "python",
   "pygments_lexer": "ipython3",
   "version": "3.11.2"
  },
  "orig_nbformat": 4,
  "vscode": {
   "interpreter": {
    "hash": "1a1af0ee75eeea9e2e1ee996c87e7a2b11a0bebd85af04bb136d915cefc0abce"
   }
  }
 },
 "nbformat": 4,
 "nbformat_minor": 2
}
